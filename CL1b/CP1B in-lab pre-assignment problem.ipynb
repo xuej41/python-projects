{
 "cells": [
  {
   "attachments": {
    "image-2.png": {
     "image/png": "[encoded data removed]"
    }
   },
   "cell_type": "markdown",
   "id": "06c3daa1",
   "metadata": {},
   "source": [
    "  # ENG 1P13 - Computing 1B - Trial and Errors\n",
    "  \n",
    "  ## CP 1B in-lab test \n",
    "2. Find the distance between lines $y_{1}$ and $y_{2}$\n",
    "\n",
    "    $y_{1}$ = -4x+8 <br>\n",
    "    $y_{2}$ = -4x+9\n",
    "    ![image-2.png](attachment:image-2.png)\n",
    "    where $C_{n}$ is the y-intercept in each line and $m$ is the slope  "
   ]
  },
  {
   "cell_type": "code",
   "execution_count": 18,
   "id": "309166ca",
   "metadata": {},
   "outputs": [
    {
     "name": "stdout",
     "output_type": "stream",
     "text": [
      "0.24253562503633297\n"
     ]
    }
   ],
   "source": [
    "import math\n",
    "\n",
    "c2 = 9\n",
    "c1 = 8\n",
    "m = -4\n",
    "\n",
    "d = (math.fabs(c2 - c1))/(math.sqrt(1 + m**2))\n",
    "\n",
    "print(d)"
   ]
  },
  {
   "cell_type": "markdown",
   "id": "f2ad4896",
   "metadata": {},
   "source": [
    "---\n",
    "## Submission\n",
    "\n",
    "Please download this notebook as a .py file (*File* > *Download as* > *Python (.py)*) and submit it to the Computing Lab 1b Pre-Assigment dropbox on avenue with the naming convention: macID_pre_CL1b.py\n",
    "\n",
    "**Make sure the final version of your file runs without errors, otherwise, you will likely receive zero.**"
   ]
  },
  {
   "cell_type": "code",
   "execution_count": null,
   "id": "732a1458",
   "metadata": {},
   "outputs": [],
   "source": []
  }
 ],
 "metadata": {
  "kernelspec": {
   "display_name": "Python 3 (ipykernel)",
   "language": "python",
   "name": "python3"
  },
  "language_info": {
   "codemirror_mode": {
    "name": "ipython",
    "version": 3
   },
   "file_extension": ".py",
   "mimetype": "text/x-python",
   "name": "python",
   "nbconvert_exporter": "python",
   "pygments_lexer": "ipython3",
   "version": "3.9.13"
  }
 },
 "nbformat": 4,
 "nbformat_minor": 5
}
