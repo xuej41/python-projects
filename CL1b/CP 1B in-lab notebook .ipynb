{
 "cells": [
  {
   "cell_type": "markdown",
   "id": "59215413",
   "metadata": {},
   "source": [
    "# ENG 1P13 - Computing 1b - Trial and Errors \n",
    "---\n",
    "## Overview \n",
    "Welcome to your second Computing Lab. This week we'll be covering:\n",
    "- Inputs and Outputs \n",
    "- Built-in Functions \n",
    "- Errors \n",
    "\n",
    "You are expected to have watched the Pre-lab videos since our lab times will be primarly used to practice the concepts covered in Pre-lab.\n",
    "\n",
    "At the beginning of each lab, you will complete a short in-lab test invidually, then work on sample problems as a group, then complete one final assignment to summarize all of your learnings.\n",
    "\n",
    "\n",
    "You are expected to submit the assignment individually by the end of your scheduled lab time. "
   ]
  },
  {
   "cell_type": "markdown",
   "id": "c6c608a7",
   "metadata": {},
   "source": [
    "## <u>Functions </u>\n",
    "Functions can be called using their name and parentheses. Recall that the input to a function, what's inside the parentheses () is called the argument \n",
    "- We pass an argument by including a variable name or data inside the parentheses\n",
    "- We can also pass variable names as arguments\n",
    "- Multiple arguments are seperated by a comma "
   ]
  },
  {
   "cell_type": "markdown",
   "id": "be415fb4",
   "metadata": {},
   "source": [
    "## <u> Random, Math and Time Modules </u> \n",
    "Unlike built-in functions (e.g., print()), some functions are stored as seperate files called modules \n",
    "-to call a function in a module, you must write an import statement\n",
    "\n",
    "You are required to:\n",
    "\n",
    "1. Import the random module\n",
    "2. Use the random.randint() function to choose a random number between 1 and 10 \n",
    "3. Import the math module\n",
    "4. Take the square root, cosine, sine, radians, and degrees of the random number from step 2 \n",
    "5. Import the time module\n",
    "6. Sleep for 2.0 seconds "
   ]
  },
  {
   "cell_type": "code",
   "execution_count": null,
   "id": "3ed80d46",
   "metadata": {},
   "outputs": [],
   "source": []
  },
  {
   "cell_type": "markdown",
   "id": "78d93b6a",
   "metadata": {},
   "source": [
    "## Errors and Troubleshooting\n",
    "We are going to explore common errors someone might face when typing their code \n",
    "\n",
    "You are required to:\n",
    "1. Type code that implements a type error \n",
    "2. Type code that implements a syntax error\n",
    "3. Type code that implements a name error \n",
    "4. Type code that implement a value error "
   ]
  },
  {
   "cell_type": "code",
   "execution_count": null,
   "id": "dd45d9f9",
   "metadata": {},
   "outputs": [],
   "source": []
  },
  {
   "attachments": {
    "image.png": {
     "image/png": "[encoded data removed]"
    }
   },
   "cell_type": "markdown",
   "id": "95c7012c",
   "metadata": {},
   "source": [
    "## Final Sample Problem \n",
    "\n",
    "You are required to:\n",
    "1. Take the radius and height of the cone as an input from the user \n",
    "2. Use the following formula to find the area of a cone ![image.png](attachment:image.png)\n",
    "3. Repeat the same steps as above but use the random.randint command instead to find the radius and height of your cone and print their values. \n",
    "\n",
    "*please use math.pi in your calculations instead of 3.14*"
   ]
  },
  {
   "cell_type": "code",
   "execution_count": null,
   "id": "ba39474c",
   "metadata": {},
   "outputs": [],
   "source": []
  },
  {
   "cell_type": "markdown",
   "id": "64b154c5",
   "metadata": {},
   "source": [
    "## <u>Functions - Additional Practice</u>\n",
    "\n",
    "1. Take the power of two integers using the pow() function\n",
    "2. Create a list of 2 floats, 3 integers, one negative integer, and one negative float \n",
    "3. Use the len function to identify the length of your list \n",
    "4. Use the max() and min() function to identify the maximum and minimum value of a sequence \n",
    "5. Use sorted() function to return the sequence in ascending order\n",
    "6. Use the sum() function to return the sum of numeric values in a list "
   ]
  },
  {
   "cell_type": "code",
   "execution_count": null,
   "id": "29f252c9",
   "metadata": {},
   "outputs": [],
   "source": []
  },
  {
   "cell_type": "markdown",
   "id": "62e340cc",
   "metadata": {},
   "source": [
    "\n",
    "# Additional Resources\n",
    "## Built In Functions\n",
    "[Built-in Functions](https://docs.python.org/3/library/functions.html) <br/>\n",
    "[Python Modules](https://docs.python.org/3/tutorial/modules.html)\n",
    "\n",
    "\n",
    "## References\n",
    "\n",
    "[1. Get Started with Google Colab](https://colab.research.google.com/notebooks/intro.ipynb)\n",
    "\n",
    "[EXAMPLE]: https://www.mozilla.org\n",
    "[2. Help function in Python](https://www.geeksforgeeks.org/help-function-in-python/)\n"
   ]
  }
 ],
 "metadata": {
  "kernelspec": {
   "display_name": "Python 3 (ipykernel)",
   "language": "python",
   "name": "python3"
  },
  "language_info": {
   "codemirror_mode": {
    "name": "ipython",
    "version": 3
   },
   "file_extension": ".py",
   "mimetype": "text/x-python",
   "name": "python",
   "nbconvert_exporter": "python",
   "pygments_lexer": "ipython3",
   "version": "3.9.13"
  }
 },
 "nbformat": 4,
 "nbformat_minor": 5
}
