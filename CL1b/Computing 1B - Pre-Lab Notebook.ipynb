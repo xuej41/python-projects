{
 "cells": [
  {
   "cell_type": "markdown",
   "metadata": {
    "colab_type": "text",
    "id": "QNa8iArXtPq4"
   },
   "source": [
    "# __Computing Lab *1b*__ - _Trial and Errors_\n",
    "---\n",
    "# 1b.  Overview\n",
    "Welcome to another Computing Online Module. This week we'll be covering:\n",
    "*   Inputs and Outputs\n",
    "*   Built-in Functions\n",
    "*   Errors\n",
    "\n",
    "<br/>\n",
    "\n",
    "# 1b.0 Background\n",
    "Before we start, let's get a bit of background information for today's module:\n",
    "\n",
    "### 1b.0.1 Truncate vs Round\n",
    ">**Rounding** returns the nearest integer of a rational number\n",
    "><br/> **Truncating** shortens a number by dropping its digits after the decimal point\n",
    "\n",
    "<br/>\n",
    "\n",
    "---\n",
    "# 1b.1 Inputs, Processes and Outputs\n",
    "\n",
    "Problems can be broken down into inputs, processes, decisions, and outputs​\n",
    "\n",
    "* **Inputs**: information/data given for processing​\n",
    "\n",
    "* **Processes**: manipulation of or operations on information/data​\n",
    "\n",
    "* **Decisions**: actions made based on certain conditions ​\n",
    "\n",
    "* **Outputs**: results of processes/operations\n",
    "\n",
    "\n",
    "\n",
    "\n"
   ]
  },
  {
   "cell_type": "markdown",
   "metadata": {
    "colab_type": "text",
    "id": "AotasaWNRQ0V"
   },
   "source": [
    "---\n",
    "# 1b.2 Built-in Functions \n",
    "\n",
    "## 1b.2.1 What is a function\n",
    "A **Function** is a reusable piece of code\n",
    "\n",
    "*   Functions allow us to give a name to a block of statements and run them mas any times as needed without rewriting them\n",
    "\n",
    "### Function Calls\n",
    "Functions are executed when they are called using _their name and paranthesis_\n",
    "* Functions can require inputs called arguments and are entered within the paranthesis\n",
    "\n",
    "\n"
   ]
  },
  {
   "cell_type": "code",
   "execution_count": 1,
   "metadata": {
    "colab": {},
    "colab_type": "code",
    "id": "ozxmMKDD3x12"
   },
   "outputs": [
    {
     "name": "stdout",
     "output_type": "stream",
     "text": [
      "Hello, my name is Monty\n"
     ]
    }
   ],
   "source": [
    "# Press Shift + Enter to run the cell to see the function call\n",
    "print(\"Hello, my name is Monty\")"
   ]
  },
  {
   "cell_type": "markdown",
   "metadata": {
    "colab_type": "text",
    "id": "IE9XmfUL3y9U"
   },
   "source": [
    "### Return Values\n",
    "Functions can return values when called. These values can be stored for later use which we'll see in the cell below."
   ]
  },
  {
   "cell_type": "code",
   "execution_count": 2,
   "metadata": {
    "colab": {},
    "colab_type": "code",
    "id": "74jIVlMY3zP2"
   },
   "outputs": [
    {
     "data": {
      "text/plain": [
       "12"
      ]
     },
     "execution_count": 2,
     "metadata": {},
     "output_type": "execute_result"
    }
   ],
   "source": [
    "# Press Shift + Enter to run the cell to see the output of the len() function\n",
    "len(\"Monty Python\")"
   ]
  },
  {
   "cell_type": "code",
   "execution_count": 3,
   "metadata": {
    "colab": {},
    "colab_type": "code",
    "id": "1f2tq52yD0c_"
   },
   "outputs": [
    {
     "name": "stdout",
     "output_type": "stream",
     "text": [
      "5 to the exponent 3 is,  125\n"
     ]
    }
   ],
   "source": [
    "# Press Shift + Enter to see how the output of the pow() function is stored \n",
    "result = pow(5,3)\n",
    "print(\"5 to the exponent 3 is, \", result)"
   ]
  },
  {
   "cell_type": "markdown",
   "metadata": {
    "colab_type": "text",
    "id": "eXK5aUdi3zbO"
   },
   "source": [
    "## 1b.2.2 Common Built-in Functions\n",
    "Python has several built in functions. \n",
    "Some useful functions are listed below and we'll take a closer look at some of them a bit later on.\n",
    "\n",
    "```\n",
    "type()\n",
    "id()  \n",
    "str() \n",
    "int() \n",
    "float() \n",
    "abs()  \n",
    "round()\n",
    "range()\n",
    "len()\n",
    "sum()\n",
    "sorted()\n",
    "```\n",
    "\n",
    "Here are some of the many built-in functions we'll use in the coming weeks:\n",
    "```\n",
    "type()   # tells you the type of a variable\n",
    "abs()    # produces the absolute value of a number\n",
    "round()  # rounds a floating-point number to the nearest integer\n",
    "```\n",
    "\n",
    "Let's try it out:"
   ]
  },
  {
   "cell_type": "code",
   "execution_count": 4,
   "metadata": {
    "colab": {
     "base_uri": "https://localhost:8080/",
     "height": 68
    },
    "colab_type": "code",
    "executionInfo": {
     "elapsed": 290,
     "status": "ok",
     "timestamp": 1592197723899,
     "user": {
      "displayName": "Thomas Kean",
      "photoUrl": "",
      "userId": "16781136101659541229"
     },
     "user_tz": 240
    },
    "id": "-fjRspZUHvFz",
    "outputId": "0c87a4ed-9a47-45b7-d9cf-42128e3a6ad7"
   },
   "outputs": [
    {
     "name": "stdout",
     "output_type": "stream",
     "text": [
      "The data type of x is <class 'float'>\n",
      "Absolute value of x is 12.8\n",
      "The rounded value of x is -13\n"
     ]
    }
   ],
   "source": [
    "# TRY RUNNING THIS CELL BY PRESSING SHIFT + ENTER\n",
    "x = -12.80\n",
    "print(\"The data type of x is\", type(x) )\n",
    "print(\"Absolute value of x is\", abs(x))\n",
    "print(\"The rounded value of x is\", round(x))"
   ]
  },
  {
   "cell_type": "markdown",
   "metadata": {
    "colab_type": "text",
    "id": "GyjDUxRh1IrP"
   },
   "source": [
    "Great work, let's keep going!\n",
    "\n",
    "### The help function\n",
    "\n",
    "The help() function, it's role. And let's try using it\n",
    "\n",
    "This is a great resource for learning Python.\n",
    "\n",
    "\n",
    "\n",
    "\n",
    "\n",
    "\n",
    "\n",
    "\n"
   ]
  },
  {
   "cell_type": "code",
   "execution_count": 5,
   "metadata": {
    "colab": {},
    "colab_type": "code",
    "id": "ZcL3FLsS8boN"
   },
   "outputs": [
    {
     "name": "stdout",
     "output_type": "stream",
     "text": [
      "\n",
      "Welcome to Python 3.9's help utility!\n",
      "\n",
      "If this is your first time using Python, you should definitely check out\n",
      "the tutorial on the Internet at https://docs.python.org/3.9/tutorial/.\n",
      "\n",
      "Enter the name of any module, keyword, or topic to get help on writing\n",
      "Python programs and using Python modules.  To quit this help utility and\n",
      "return to the interpreter, just type \"quit\".\n",
      "\n",
      "To get a list of available modules, keywords, symbols, or topics, type\n",
      "\"modules\", \"keywords\", \"symbols\", or \"topics\".  Each module also comes\n",
      "with a one-line summary of what it does; to list the modules whose name\n",
      "or summary contain a given string such as \"spam\", type \"modules spam\".\n",
      "\n",
      "help> joe\n",
      "No Python documentation found for 'joe'.\n",
      "Use help() to get the interactive help utility.\n",
      "Use help(str) for help on the str class.\n",
      "\n",
      "help> \n",
      "\n",
      "You are now leaving help and returning to the Python interpreter.\n",
      "If you want to ask for help on a particular object directly from the\n",
      "interpreter, you can type \"help(object)\".  Executing \"help('string')\"\n",
      "has the same effect as typing a particular string at the help> prompt.\n"
     ]
    }
   ],
   "source": [
    "# RUN THIS CELL TO RUN THE INTERACTIVE HELP FUNCTION\n",
    "help()"
   ]
  },
  {
   "cell_type": "markdown",
   "metadata": {
    "colab_type": "text",
    "id": "jRHtHoq0HvVz"
   },
   "source": [
    "\n",
    "## 1b.2.3 Conversions\n",
    "Some of the most useful built-in functions are ones that convert data from one type to another. The type names str, int and float can be used as if they were functions\n",
    "\n",
    "```\n",
    "str() # converts the argument to a string\n",
    "int() # converts the argument to an integer\n",
    "float() # converts the argument to a float\n",
    "```\n",
    "\n",
    "Let's try using some of the type conversions in the cell below!\n",
    "\n"
   ]
  },
  {
   "cell_type": "code",
   "execution_count": 6,
   "metadata": {
    "colab": {
     "base_uri": "https://localhost:8080/",
     "height": 34
    },
    "colab_type": "code",
    "executionInfo": {
     "elapsed": 744,
     "status": "ok",
     "timestamp": 1591618694919,
     "user": {
      "displayName": "Thomas Kean",
      "photoUrl": "",
      "userId": "16781136101659541229"
     },
     "user_tz": 240
    },
    "id": "nJA9PMegxhPi",
    "outputId": "38471f54-ee90-4b07-dbbe-5dfc5ad5f2d5"
   },
   "outputs": [
    {
     "data": {
      "text/plain": [
       "8"
      ]
     },
     "execution_count": 6,
     "metadata": {},
     "output_type": "execute_result"
    }
   ],
   "source": [
    "# PRESS SHIFT + ENTER TO RUN THIS CELL\n",
    "int(8.6)"
   ]
  },
  {
   "cell_type": "code",
   "execution_count": 7,
   "metadata": {
    "colab": {
     "base_uri": "https://localhost:8080/",
     "height": 34
    },
    "colab_type": "code",
    "executionInfo": {
     "elapsed": 1413,
     "status": "ok",
     "timestamp": 1591618740250,
     "user": {
      "displayName": "Thomas Kean",
      "photoUrl": "",
      "userId": "16781136101659541229"
     },
     "user_tz": 240
    },
    "id": "ydhMo2xPGkDn",
    "outputId": "bd13c6d7-fd0c-4a66-e8f7-4053c949897e"
   },
   "outputs": [
    {
     "data": {
      "text/plain": [
       "20.0"
      ]
     },
     "execution_count": 7,
     "metadata": {},
     "output_type": "execute_result"
    }
   ],
   "source": [
    "# RUN THIS CELL\n",
    "float(20)"
   ]
  },
  {
   "cell_type": "code",
   "execution_count": 8,
   "metadata": {
    "colab": {
     "base_uri": "https://localhost:8080/",
     "height": 34
    },
    "colab_type": "code",
    "executionInfo": {
     "elapsed": 899,
     "status": "ok",
     "timestamp": 1591618757678,
     "user": {
      "displayName": "Thomas Kean",
      "photoUrl": "",
      "userId": "16781136101659541229"
     },
     "user_tz": 240
    },
    "id": "ip9HHBerGkHp",
    "outputId": "4e3b2b7c-1e98-47c0-e392-dc159ff21910"
   },
   "outputs": [
    {
     "data": {
      "text/plain": [
       "'1280'"
      ]
     },
     "execution_count": 8,
     "metadata": {},
     "output_type": "execute_result"
    }
   ],
   "source": [
    "# RUN THIS CELL\n",
    "str(1280)"
   ]
  },
  {
   "cell_type": "markdown",
   "metadata": {
    "colab_type": "text",
    "id": "EIIvLYoUxjD6"
   },
   "source": [
    "Great work! <br/> Did you notice the output of ```int(8.6)``` was equal to ```8``` instead of ```9```?\n",
    "This is important to note because ```int()``` ***truncates*** the decimals, *it does not round them*.\n",
    "\n",
    "Let's take a look at another demonstration below:\n"
   ]
  },
  {
   "cell_type": "code",
   "execution_count": 9,
   "metadata": {
    "colab": {
     "base_uri": "https://localhost:8080/",
     "height": 68
    },
    "colab_type": "code",
    "executionInfo": {
     "elapsed": 12770,
     "status": "ok",
     "timestamp": 1591618837531,
     "user": {
      "displayName": "Thomas Kean",
      "photoUrl": "",
      "userId": "16781136101659541229"
     },
     "user_tz": 240
    },
    "id": "VKYYrcqu0jHa",
    "outputId": "d6b79c56-f1d6-45cf-ee06-6b361b73e5e8"
   },
   "outputs": [
    {
     "name": "stdout",
     "output_type": "stream",
     "text": [
      "joe\n",
      "The user input: joe\n"
     ]
    },
    {
     "data": {
      "text/plain": [
       "str"
      ]
     },
     "execution_count": 9,
     "metadata": {},
     "output_type": "execute_result"
    }
   ],
   "source": [
    "# RUN THIS CELL\n",
    "user_string = input()\n",
    "print('The user input: '+ user_string)\n",
    "type(user_string)"
   ]
  },
  {
   "cell_type": "markdown",
   "metadata": {},
   "source": [
    "What if we need the input as a float instead? We can combine our type conversion function with our input function to achieve that. \n",
    "\n",
    "Let's take a look at an example below:"
   ]
  },
  {
   "cell_type": "code",
   "execution_count": 11,
   "metadata": {
    "scrolled": true
   },
   "outputs": [
    {
     "name": "stdout",
     "output_type": "stream",
     "text": [
      "Please pick a decimal between 1 and 10: 9.9\n"
     ]
    },
    {
     "data": {
      "text/plain": [
       "str"
      ]
     },
     "execution_count": 11,
     "metadata": {},
     "output_type": "execute_result"
    }
   ],
   "source": [
    "user_input = input(\"Please pick a decimal between 1 and 10: \")\n",
    "type(user_input)\n",
    "#now let's covert this to a float so we can add other floats to it!  "
   ]
  },
  {
   "cell_type": "markdown",
   "metadata": {
    "colab_type": "text",
    "id": "R7REVQGj9hrq"
   },
   "source": [
    "## 1b.2.4 Import\n",
    "Unlike built-in functions (e.g., print(), type()), some functions are stored as separate files called modules.\n",
    "* These modules are copied to your computer when you install Python\n",
    "\n",
    "To call a function stored in a module, you must write an ```import``` statement\n",
    "\n",
    "Let's take a look below"
   ]
  },
  {
   "cell_type": "code",
   "execution_count": 12,
   "metadata": {
    "colab": {},
    "colab_type": "code",
    "id": "SUPhdCX-JStD"
   },
   "outputs": [
    {
     "name": "stdout",
     "output_type": "stream",
     "text": [
      "Cos(0)= 1.0 \t Sqrt(25)= 5.0\n"
     ]
    }
   ],
   "source": [
    "import math\n",
    "\n",
    "x = math.cos(0)\n",
    "y = math.sqrt(25)\n",
    "print(\"Cos(0)=\",x,\"\\t Sqrt(25)=\",y)"
   ]
  },
  {
   "cell_type": "markdown",
   "metadata": {
    "colab_type": "text",
    "id": "_CXmZ4b3wn0I"
   },
   "source": [
    "\n",
    "Great job!<br/>\n",
    "* The math Module is a module that we can utilize by importing it at the top of our program.\n",
    "\n",
    "* It contains very useful mathematical operations, such as trigonometric functions, exponential functions and many more\n",
    "\n",
    "* To use the math module, we import it at the beginning of the program using the import statement, and access functions of the math module using the dot operator\n",
    "<br/>\n",
    "Let's try this next:\n"
   ]
  },
  {
   "cell_type": "code",
   "execution_count": 13,
   "metadata": {
    "colab": {},
    "colab_type": "code",
    "id": "eLR8Ew71c4jy"
   },
   "outputs": [
    {
     "name": "stdout",
     "output_type": "stream",
     "text": [
      "3 is equal to 3\n"
     ]
    }
   ],
   "source": [
    "#Let's run this cell to see how import works by printing π is equal to e\n",
    "import math\n",
    "\n",
    "pi  = round(math.pi)\n",
    "e = round(math.e)\n",
    "\n",
    "print(pi, 'is equal to', e)"
   ]
  },
  {
   "cell_type": "markdown",
   "metadata": {
    "colab_type": "text",
    "id": "oh2SSYe4KLCe"
   },
   "source": [
    "Let's break this down a bit further.\n",
    "\n",
    "1. We imported the math module:\n",
    "```\n",
    "import math\n",
    "```\n",
    "2. We round the values of π and _e_ and save them to variables:\n",
    "```\n",
    "pi = round(math.pi)\n",
    "e = round(math.e)\n",
    "```\n",
    "3. We show π and _e_ are equal to each to eachother\n",
    "\n",
    "```\n",
    "print(pi, \" is equal to \", e)\n",
    "``` \n"
   ]
  },
  {
   "cell_type": "markdown",
   "metadata": {},
   "source": [
    "Let's look at a few shortcuts we can use with the ```math``` module when converting from degree to radians and vice versa! \n",
    "\n",
    "```\n",
    "math.radians() # converts the argument to radians\n",
    "math.degrees() # converts the argument to degrees\n",
    "```"
   ]
  },
  {
   "cell_type": "code",
   "execution_count": null,
   "metadata": {},
   "outputs": [],
   "source": [
    "# RUN THIS CELL \n",
    "import math\n",
    "\n",
    "angle_deg = 180\n",
    "\n",
    "#let's convert this to radians\n",
    "angle_rad = math.radians(angle_deg)\n",
    "\n",
    "print(\"my angle in randians is\", angle_rad)"
   ]
  },
  {
   "cell_type": "code",
   "execution_count": null,
   "metadata": {
    "scrolled": true
   },
   "outputs": [],
   "source": [
    "# Now let's try converting from radians to degrees! \n",
    "import math\n",
    "\n",
    "angle_rad = 6.28\n",
    "angle_deg = math.degrees(angle_rad)\n",
    "\n",
    "print(\"my angle in degrees is\", angle_deg)"
   ]
  },
  {
   "cell_type": "markdown",
   "metadata": {
    "colab_type": "text",
    "id": "s2qeVjaB9vlI"
   },
   "source": [
    "Let's take a look at the available libraries that we can import. This might take a moment to load, so sit tight! "
   ]
  },
  {
   "cell_type": "code",
   "execution_count": null,
   "metadata": {
    "colab": {},
    "colab_type": "code",
    "id": "y5OSKwKZaFnx"
   },
   "outputs": [],
   "source": [
    "# RUN THIS CELL TO RUN THE INTERACTIVE HELP FUNCTION\n",
    "help('modules')"
   ]
  },
  {
   "cell_type": "markdown",
   "metadata": {
    "colab_type": "text",
    "id": "fjHgtdzBamTX"
   },
   "source": [
    "Wow, that's a pretty long list!<br/>\n",
    "We can see there are plenty of modules which we can import in python\n",
    "\n",
    "#### Helpful Python Modules\n",
    "Here are a few common modules that are worth checking out:\n",
    "```\n",
    "import math \n",
    "import time \n",
    "import random \n",
    "```\n",
    "In the next cell, we'll try two functions from the time and random modules.\n",
    "```\n",
    "random.randint() #returns a random integer from the specified range --> [first,last]\n",
    "time.sleep() #suspends execution of consequent lines for the number of seconds specified\n",
    "```"
   ]
  },
  {
   "cell_type": "code",
   "execution_count": null,
   "metadata": {
    "colab": {},
    "colab_type": "code",
    "id": "vqSq14M3Z73k"
   },
   "outputs": [],
   "source": [
    "# RUN THIS CELL \n",
    "import random, time\n",
    "\n",
    "age = random.randint(0, 100)\n",
    "print(\"I am\",age,\"years old!\")\n",
    "\n",
    "time.sleep(3.0)\n",
    "print(\"This is printed 3.0 seconds after the first line\")\n"
   ]
  },
  {
   "cell_type": "markdown",
   "metadata": {},
   "source": [
    "Lets look at another common function in the ```random``` module \n",
    "```\n",
    "random.random() #returns a random floating point number between 0.0 and 1.0 --> [0.0,1.0)\n",
    "```"
   ]
  },
  {
   "cell_type": "code",
   "execution_count": null,
   "metadata": {},
   "outputs": [],
   "source": [
    "# RUN THIS CELL\n",
    "import random\n",
    "\n",
    "num = random.random()\n",
    "print(\"My randomly generated float number is\", num)\n"
   ]
  },
  {
   "cell_type": "markdown",
   "metadata": {},
   "source": [
    "---\n",
    "# Quiz Question 1\n",
    "Now attempt the next exercise on your own: <br/> "
   ]
  },
  {
   "cell_type": "code",
   "execution_count": null,
   "metadata": {},
   "outputs": [],
   "source": [
    "import random\n",
    "rainy_season = random.randint(51,100)\n",
    "print(rainy_season)"
   ]
  },
  {
   "cell_type": "markdown",
   "metadata": {},
   "source": [
    "Looking at the cell above, which one of the following is a possible output?\n",
    "* 30\n",
    "* 50\n",
    "* 100\n",
    "* 75.5\n",
    "    "
   ]
  },
  {
   "cell_type": "markdown",
   "metadata": {
    "colab_type": "text",
    "id": "JFwRPaj-pjDv"
   },
   "source": [
    "---\n",
    "# 1b.3 Errors and Troubleshooting\n",
    "\n",
    "## 1B.3.1 Runtime/Execution Errors \n",
    "Errors occur at two specific times, causing the application to misbehave\n",
    "\n",
    "* **Compile Time Errors**: occur before the application can run\n",
    "  * If the compiler cannot understand the instructions you have written,\n",
    "Python cannot convert your instructions into machine code\n",
    "* **Execution (or Runtime) Errors**: occur during program’s execution\n",
    "  * When an error occurs and Python is unsure of what to do next, it creates an *exception object*\n",
    "  * If the exception isn’t handled (we’ll get to that later), the program halts and shows a *traceback*\n",
    "\n",
    "<br/>\n",
    "\n",
    "## 1b.3.2 Common Errors in Python\n",
    "* **SyntaxError** raised when instrutions are written incorrectly\n",
    "  * e.g., missing key characters such as parentheses or colon\n",
    "* **IndentationError** raised when there is an issue with the indentation of a\n",
    "line of code\n",
    "  * e.g.,you haven’t intended all lines in a block of code equally\n",
    "* **NameError**: raised when a local or global name is not found. This applies\n",
    "only to unqualified names.\n",
    "  * e.g., you’ve misspelled avariable or function;you’ve called a variable not yet defined\n",
    "* **TypeError**: attempting to perform an operation on an object of the incorrect type​\n",
    "\n",
    "<br/>\n",
    "\n"
   ]
  },
  {
   "cell_type": "code",
   "execution_count": null,
   "metadata": {
    "colab": {},
    "colab_type": "code",
    "id": "XBy7Zjok5RwI"
   },
   "outputs": [],
   "source": [
    "#Syntax Error\n",
    "x = \"I think I forgot something\n",
    "print(x)"
   ]
  },
  {
   "cell_type": "code",
   "execution_count": null,
   "metadata": {
    "colab": {},
    "colab_type": "code",
    "id": "8OXgGveH4hoM"
   },
   "outputs": [],
   "source": [
    "#Indent Error\n",
    "b=5\n",
    "if b<10:\n",
    "print(\"x is less than 10\")"
   ]
  },
  {
   "cell_type": "code",
   "execution_count": null,
   "metadata": {
    "colab": {},
    "colab_type": "code",
    "id": "N5NEAV6r6W9i"
   },
   "outputs": [],
   "source": [
    "#Name Error\n",
    "c = 10\n",
    "d = d + 1\n",
    "print(c)\n",
    "print(d)"
   ]
  },
  {
   "cell_type": "markdown",
   "metadata": {},
   "source": [
    "---\n",
    "# Quiz Question 2\n",
    "Now attempt the next exercise on your own: <br/> <br/>\n",
    "First, **identify** the type of error you will get when running the cell then, attempt to **resolve** it"
   ]
  },
  {
   "cell_type": "code",
   "execution_count": null,
   "metadata": {},
   "outputs": [],
   "source": [
    "import math\n",
    "\n",
    "x = cos(0)\n",
    "print(x)"
   ]
  },
  {
   "cell_type": "markdown",
   "metadata": {
    "colab_type": "text",
    "id": "kgGuOT75cM9C"
   },
   "source": [
    "## 1b.3.3 Troubleshooting your Code\n",
    "Fixing errors requires an understanding of **what the specific error is** and **where in your code the error occurs**. Fortunately, Python provides both pieces of information. <br/>\n",
    "\n",
    "**What** the specific error is:\n",
    "* There are many sources of error that cause your program to halt\n",
    "* Errors most likely to be encountered for this Mini-Milestone will be introduced now\n",
    "* Other common errors will be introduced later\n",
    "\n",
    "**Where** the code occurs:\n",
    "* Compiling Time Errors: occurs before the application can run\n",
    "* Execution (or Runtime) Errors: the exact line of code where the\n",
    "error occurred is given by the traceback\n",
    "\n",
    "An example traceback is shown below:\n",
    " "
   ]
  },
  {
   "cell_type": "code",
   "execution_count": null,
   "metadata": {
    "colab": {},
    "colab_type": "code",
    "id": "a8zH2t9rqR2K"
   },
   "outputs": [],
   "source": [
    "\"\"\"\n",
    "Go ahead, try running this cell!\n",
    "After you get the error, try fixing the code below so the cell outputs: \"Lab Section 1\"\n",
    "\"\"\"\n",
    "lab_section = 1\n",
    "print('Lab Section ' + lab_section)"
   ]
  },
  {
   "cell_type": "markdown",
   "metadata": {
    "colab_type": "text",
    "id": "faRimhqU404M"
   },
   "source": [
    "---\n",
    "Now attempt the next few exercises on your own: </br> </br>\n",
    "\n",
    "# Quiz Question 3\n",
    "Resolve the ValueError to display '1P13' given:\n"
   ]
  },
  {
   "cell_type": "code",
   "execution_count": null,
   "metadata": {
    "colab": {},
    "colab_type": "code",
    "id": "n9yuJfWpQVvi"
   },
   "outputs": [],
   "source": [
    "notAnInteger = \"1P13\"\n",
    "print(int(notAnInteger))"
   ]
  },
  {
   "cell_type": "markdown",
   "metadata": {},
   "source": [
    "\n",
    "# Quiz Question 4\n",
    "Resolve the NameError to print the output of b/a given:"
   ]
  },
  {
   "cell_type": "code",
   "execution_count": null,
   "metadata": {},
   "outputs": [],
   "source": [
    "a = 10\n",
    "b == 1000\n",
    "\n",
    "print(b/a)"
   ]
  },
  {
   "cell_type": "markdown",
   "metadata": {},
   "source": [
    "---\n",
    "# Had Questions or Need any Clarifications?\n",
    "\n",
    "You can use the form linked below to record topics you were particularly confused about, or had any specific questions in mind. Given enough responses, this helps us know what topics to focus on in-detail during your lab!\n",
    "\n",
    "https://forms.office.com/r/z1XjjwU8Sj"
   ]
  },
  {
   "cell_type": "markdown",
   "metadata": {
    "colab_type": "text",
    "id": "5Pp0CMqryjeP"
   },
   "source": [
    "---\n",
    "\n",
    "# Additional Resources\n",
    "## Built In Functions\n",
    "[Built-in Functions](https://docs.python.org/3/library/functions.html) <br/>\n",
    "[Python Modules](https://docs.python.org/3/tutorial/modules.html)\n",
    "\n",
    "\n",
    "## References\n",
    "\n",
    "[Hey, no peaking!]:https://youtu.be/dQw4w9WgXcQ\n",
    "\n",
    "[\\[1\\]. Help function in Python](https://www.geeksforgeeks.org/help-function-in-python/)\n",
    "\n",
    "\n"
   ]
  }
 ],
 "metadata": {
  "colab": {
   "collapsed_sections": [],
   "name": "Computing Online Module #1b",
   "provenance": []
  },
  "kernelspec": {
   "display_name": "Python 3 (ipykernel)",
   "language": "python",
   "name": "python3"
  },
  "language_info": {
   "codemirror_mode": {
    "name": "ipython",
    "version": 3
   },
   "file_extension": ".py",
   "mimetype": "text/x-python",
   "name": "python",
   "nbconvert_exporter": "python",
   "pygments_lexer": "ipython3",
   "version": "3.9.13"
  }
 },
 "nbformat": 4,
 "nbformat_minor": 1
}
