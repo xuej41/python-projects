{
 "cells": [
  {
   "cell_type": "markdown",
   "metadata": {
    "colab_type": "text",
    "id": "QNa8iArXtPq4"
   },
   "source": [
    "#__1P13 Week *1*__ - _Hello World_\n",
    "---\n",
    "#Overview\n",
    "Welcome to our first Computing Lab! This week we will be covering the basics of computing and create our own programs!\n",
    "\n"
   ]
  },
  {
   "cell_type": "code",
   "execution_count": 1,
   "metadata": {
    "colab": {
     "base_uri": "https://localhost:8080/",
     "height": 35
    },
    "colab_type": "code",
    "id": "eLR8Ew71c4jy",
    "outputId": "8db8f7df-b450-49f8-c59b-6d1680d43231"
   },
   "outputs": [
    {
     "name": "stdout",
     "output_type": "stream",
     "text": [
      "Hello World\n"
     ]
    }
   ],
   "source": [
    "# RUN YOUR FIRST PROGRAM IN THIS CELL BY PRESSING \"SHIFT+ENTER\"\n",
    "print(\"Hello World\")"
   ]
  },
  {
   "cell_type": "markdown",
   "metadata": {
    "colab_type": "text",
    "id": "YOKFC11_nO-n"
   },
   "source": [
    "Great work! <br/>\n",
    "To execute the code in the above cell, select it with a click and then either press the play button to the left of the code, or use the keyboard shortcut \"Command/Ctrl+Enter\". To edit the code, just click the cell and start editing.\n"
   ]
  },
  {
   "cell_type": "code",
   "execution_count": 2,
   "metadata": {
    "colab": {},
    "colab_type": "code",
    "id": "7wT3qZ0JdQYq"
   },
   "outputs": [
    {
     "name": "stdout",
     "output_type": "stream",
     "text": [
      "My name is Josh\n"
     ]
    }
   ],
   "source": [
    "# EDIT THIS CELL!\n",
    "print(\"My name is Josh\")"
   ]
  },
  {
   "cell_type": "markdown",
   "metadata": {
    "colab_type": "text",
    "id": "2EYB886hseIG"
   },
   "source": [
    "### Comments\n",
    "Comments are lines of code which the Python Interpretter will ignore. We can use comments \n",
    "* to explain Python code\n",
    "* to make the code more readable\n",
    "* to prevent execution when testing code"
   ]
  },
  {
   "cell_type": "code",
   "execution_count": 3,
   "metadata": {
    "colab": {},
    "colab_type": "code",
    "id": "0RCWiPQJseVU"
   },
   "outputs": [],
   "source": [
    "# THIS IS A COMMENT. IT DOES NOTHING"
   ]
  },
  {
   "cell_type": "markdown",
   "metadata": {
    "colab_type": "text",
    "id": "dXwGIko7dawL"
   },
   "source": [
    "---\n",
    "# Representing Data\n",
    "## Values & Expressions\n",
    "\n",
    "__Values__ are the information (data) stored and manipulated by computer programs\n",
    "<br/>\n",
    "__Expressions__ are syntactic entities that denotes a value:\n",
    "* Expressions are similar to mathematical expressions\n",
    "* The simplest way to recognize an expression is that it simplifies to a value"
   ]
  },
  {
   "cell_type": "code",
   "execution_count": 4,
   "metadata": {
    "colab": {},
    "colab_type": "code",
    "id": "MBCfUBI2fvrH"
   },
   "outputs": [
    {
     "data": {
      "text/plain": [
       "5"
      ]
     },
     "execution_count": 4,
     "metadata": {},
     "output_type": "execute_result"
    }
   ],
   "source": [
    "# 5 is a value\n",
    "5"
   ]
  },
  {
   "cell_type": "code",
   "execution_count": 5,
   "metadata": {
    "colab": {},
    "colab_type": "code",
    "id": "eX_pg3qDhp1y"
   },
   "outputs": [
    {
     "data": {
      "text/plain": [
       "15"
      ]
     },
     "execution_count": 5,
     "metadata": {},
     "output_type": "execute_result"
    }
   ],
   "source": [
    "# 10 + 5 is an expression\n",
    "10 + 5"
   ]
  },
  {
   "cell_type": "markdown",
   "metadata": {
    "colab_type": "text",
    "id": "_CXmZ4b3wn0I"
   },
   "source": [
    "---\n",
    "# Variables\n",
    "__Variable:__ a container that holds a value that may change\n",
    "* Values are information (i.e., data) stored and manipulated by computer programs\n",
    "\n",
    "\n"
   ]
  },
  {
   "cell_type": "code",
   "execution_count": 6,
   "metadata": {
    "colab": {},
    "colab_type": "code",
    "id": "b8YayoTCh3QL"
   },
   "outputs": [],
   "source": [
    "# RUN THIS CELL \n",
    "my_var = 'this is a variable'"
   ]
  },
  {
   "cell_type": "markdown",
   "metadata": {
    "colab_type": "text",
    "id": "QqRjKem4h3aO"
   },
   "source": [
    "# Data Types\n",
    "__Data Types__: are used as a means to categorize data\n",
    "* A data type defines a set of values along with the operations that can be performed on those values\n",
    "\n",
    "Some examples of _data types_ in Python include:\n",
    "* Strings\n",
    "* Numeric Types (int, float)\n",
    "* Booleans\n",
    "* Lists"
   ]
  },
  {
   "cell_type": "markdown",
   "metadata": {
    "colab_type": "text",
    "id": "6cXR2I5KjmQW"
   },
   "source": [
    "## Strings\n",
    "\n"
   ]
  },
  {
   "cell_type": "code",
   "execution_count": 7,
   "metadata": {
    "colab": {},
    "colab_type": "code",
    "id": "7Uz0cHglZZVH"
   },
   "outputs": [],
   "source": [
    "# PRESS SHIFT ENTER TO SAVE A STRING VARIABLE\n",
    "student_name = \"Tommy\""
   ]
  },
  {
   "cell_type": "markdown",
   "metadata": {
    "colab_type": "text",
    "id": "63dV41ovCrcg"
   },
   "source": [
    "__Multiline Strings__ can be assighed to a variable by using three quotes"
   ]
  },
  {
   "cell_type": "code",
   "execution_count": null,
   "metadata": {
    "colab": {},
    "colab_type": "code",
    "id": "BRV59YlaCq5-"
   },
   "outputs": [],
   "source": []
  },
  {
   "cell_type": "markdown",
   "metadata": {
    "colab_type": "text",
    "id": "iYR_tDj7jwY4"
   },
   "source": [
    "## Numeric Types\n",
    "Python has three numeric types in Python:\n",
    "* int\n",
    "* float\n",
    "* complex\n",
    "\n",
    "In this course we'll be working with `int` and `float`.\n",
    "### \\<int\\>\n",
    "An `int`, or integer, is a whole number, positive or negative, without decimals\n"
   ]
  },
  {
   "cell_type": "code",
   "execution_count": 1,
   "metadata": {
    "colab": {},
    "colab_type": "code",
    "id": "xHLBulpVZY2Z"
   },
   "outputs": [],
   "source": [
    "# PRESS SHIFT ENTER TO DECLARE AN INTEGER VARIABLE\n",
    "age = 21"
   ]
  },
  {
   "cell_type": "markdown",
   "metadata": {
    "colab_type": "text",
    "id": "UAWsbjpy-c_A"
   },
   "source": [
    "### \\<float\\>\n",
    "A `Float`, or \"floating point number\" is a number, positive or negative, containing one or more decimals."
   ]
  },
  {
   "cell_type": "code",
   "execution_count": 2,
   "metadata": {
    "colab": {},
    "colab_type": "code",
    "id": "LkuJPBNoZZqE"
   },
   "outputs": [],
   "source": [
    "# PRESS SHIFT ENTER TO DECLARE A FLOAT VARIABLE\n",
    "g = 9.81"
   ]
  },
  {
   "cell_type": "markdown",
   "metadata": {
    "colab_type": "text",
    "id": "bnbGGEP2rpy-"
   },
   "source": [
    "###  Booleans\n",
    "Booleans are used to evaluate expressions to `True` or `False`. They are used to help computers make decisions when programming."
   ]
  },
  {
   "cell_type": "code",
   "execution_count": 3,
   "metadata": {
    "colab": {},
    "colab_type": "code",
    "id": "P6YxHShirvPJ"
   },
   "outputs": [],
   "source": [
    "# DECLARE A VARIABLE SET TO True and A VARIABLE SET TO False\n",
    "my_bool = True\n",
    "my_other_bool = False"
   ]
  },
  {
   "cell_type": "markdown",
   "metadata": {
    "colab_type": "text",
    "id": "5x3JbUAzc06i"
   },
   "source": [
    "# The Print Statement\n",
    "The __print__ statement tells the program to display words or numbers on screen. \n",
    "<br/>\n",
    "We saw this earlier when we printed `hello world`\n",
    " "
   ]
  },
  {
   "cell_type": "code",
   "execution_count": 4,
   "metadata": {
    "colab": {
     "base_uri": "https://localhost:8080/",
     "height": 55
    },
    "colab_type": "code",
    "id": "YKlkZqLPc1Gp",
    "outputId": "80e41846-a488-4d0f-c62d-c8f4b5edd98e"
   },
   "outputs": [
    {
     "name": "stdout",
     "output_type": "stream",
     "text": [
      "I love Python!\n"
     ]
    }
   ],
   "source": [
    "# RUN THE HELLO WORLD STATEMENT\n",
    "print(\"I love Python!\")"
   ]
  },
  {
   "cell_type": "markdown",
   "metadata": {
    "colab_type": "text",
    "id": "h6BlQWt3espK"
   },
   "source": [
    "`print` is a built-in function that displays output on the screen\n",
    "* Typing the word print calls the print function\n",
    "* An argument inside the parentheses is displayed on the screen (e.g., \"I love Python!\")\n"
   ]
  },
  {
   "cell_type": "code",
   "execution_count": 5,
   "metadata": {
    "colab": {},
    "colab_type": "code",
    "id": "aL4nfewuer6a"
   },
   "outputs": [
    {
     "name": "stdout",
     "output_type": "stream",
     "text": [
      "I love Python!\n"
     ]
    }
   ],
   "source": [
    "message = \"I love Python!\"\n",
    "print(message)"
   ]
  },
  {
   "cell_type": "markdown",
   "metadata": {
    "colab_type": "text",
    "id": "-puls3ROZaBf"
   },
   "source": [
    "# Mathematical Expressions\n",
    "__Recall:__ an Expression is a syntactic entity that denotes a value\n",
    "* An expression, in its simplest form, simplifies to a value\n",
    "<br/>\n",
    "\n",
    "The __value__ of a declared variable can also be an expression\n",
    "* Numeric operations that can be performed on numeric variables\n",
    "\n",
    "* ```x + y``` sum of x and y\n",
    "* ```x - y``` difference of x and y\n",
    "* ```x * y``` product of x and y\n",
    "* ```x // y``` integer division of x and y\n",
    "* ```x / y``` floating point division of x and y\n",
    "* ```x % y``` remainder of x/y\n"
   ]
  },
  {
   "cell_type": "code",
   "execution_count": 6,
   "metadata": {
    "colab": {
     "base_uri": "https://localhost:8080/",
     "height": 55
    },
    "colab_type": "code",
    "id": "72hbqpirbKxo",
    "outputId": "a24621f2-a74a-404e-f67f-3831bafba7ff"
   },
   "outputs": [
    {
     "name": "stdout",
     "output_type": "stream",
     "text": [
      "3\n"
     ]
    }
   ],
   "source": [
    "# PRESS SHIFT ENTER TO USE THE ADDITION OPERATOR\n",
    "sum = 1 + 2\n",
    "print(sum)"
   ]
  },
  {
   "cell_type": "code",
   "execution_count": 7,
   "metadata": {
    "colab": {
     "base_uri": "https://localhost:8080/",
     "height": 55
    },
    "colab_type": "code",
    "id": "8e0WkZXzbK1-",
    "outputId": "e70bf019-49b7-4fa2-f1fa-5160f18ca574"
   },
   "outputs": [
    {
     "name": "stdout",
     "output_type": "stream",
     "text": [
      "1\n"
     ]
    }
   ],
   "source": [
    "# PRESS SHIFT ENTER TO USE THE SUBTRACTION OPERATOR\n",
    "difference = 3 - 2\n",
    "print(difference)"
   ]
  },
  {
   "cell_type": "code",
   "execution_count": 8,
   "metadata": {
    "colab": {
     "base_uri": "https://localhost:8080/",
     "height": 55
    },
    "colab_type": "code",
    "id": "G3Z_AReWbK5P",
    "outputId": "a358f491-6fac-4710-8af3-412feea9e499"
   },
   "outputs": [
    {
     "name": "stdout",
     "output_type": "stream",
     "text": [
      "10\n"
     ]
    }
   ],
   "source": [
    "# PRESS SHIFT ENTER TO USE THE MULTIPLICATION OPERATOR\n",
    "product = 5 * 2\n",
    "print(product)"
   ]
  },
  {
   "cell_type": "code",
   "execution_count": 9,
   "metadata": {
    "colab": {
     "base_uri": "https://localhost:8080/",
     "height": 55
    },
    "colab_type": "code",
    "id": "Gl-K3cXJbK9C",
    "outputId": "07f34280-fbb0-4155-dea4-d069900951e9"
   },
   "outputs": [
    {
     "name": "stdout",
     "output_type": "stream",
     "text": [
      "5\n"
     ]
    }
   ],
   "source": [
    "# PRESS SHIFT ENTER TO USE THE INTEGER DIVISION OPERATOR\n",
    "integer_division = 11//2\n",
    "print(integer_division)"
   ]
  },
  {
   "cell_type": "code",
   "execution_count": 10,
   "metadata": {
    "colab": {
     "base_uri": "https://localhost:8080/",
     "height": 55
    },
    "colab_type": "code",
    "id": "8VIIg5pvbLAb",
    "outputId": "28f8eec5-0ef3-4f85-f971-8c04a6f44f4c"
   },
   "outputs": [
    {
     "name": "stdout",
     "output_type": "stream",
     "text": [
      "5.5\n"
     ]
    }
   ],
   "source": [
    "# PRESS SHIFT ENTER TO USE THE FLOATING DIVISION OPERATOR\n",
    "floating_division = 11/2\n",
    "print(floating_division)"
   ]
  },
  {
   "cell_type": "code",
   "execution_count": 11,
   "metadata": {
    "colab": {
     "base_uri": "https://localhost:8080/",
     "height": 55
    },
    "colab_type": "code",
    "id": "ANLZvM8abLDx",
    "outputId": "bba0d3ee-733d-4e3e-8c60-d37850cfe7c1"
   },
   "outputs": [
    {
     "name": "stdout",
     "output_type": "stream",
     "text": [
      "1\n"
     ]
    }
   ],
   "source": [
    "# PRESS SHIFT ENTER TO USE THE MODULO OPERATOR\n",
    "remainder = 11%2\n",
    "print(remainder)"
   ]
  },
  {
   "cell_type": "markdown",
   "metadata": {
    "colab_type": "text",
    "id": "4G0Al5AqfziZ"
   },
   "source": [
    "# Variables and Expressions\n",
    "Variables that you define in one cell can later be used in other cells."
   ]
  },
  {
   "cell_type": "code",
   "execution_count": 12,
   "metadata": {
    "colab": {
     "base_uri": "https://localhost:8080/",
     "height": 35
    },
    "colab_type": "code",
    "id": "YfaKiw6hnaeO",
    "outputId": "6a70320c-543d-474e-9876-129c8a9efe89"
   },
   "outputs": [
    {
     "data": {
      "text/plain": [
       "86400"
      ]
     },
     "execution_count": 12,
     "metadata": {},
     "output_type": "execute_result"
    }
   ],
   "source": [
    "# RUN THIS CELL\n",
    "seconds_in_a_day = 24 * 60 * 60\n",
    "seconds_in_a_day"
   ]
  },
  {
   "cell_type": "code",
   "execution_count": 13,
   "metadata": {
    "colab": {
     "base_uri": "https://localhost:8080/",
     "height": 35
    },
    "colab_type": "code",
    "id": "wa87Ga8rn-_5",
    "outputId": "e27b644b-123f-48ea-f968-a3f7267d2ed8"
   },
   "outputs": [
    {
     "data": {
      "text/plain": [
       "604800"
      ]
     },
     "execution_count": 13,
     "metadata": {},
     "output_type": "execute_result"
    }
   ],
   "source": [
    "# AND THEN TRY THIS CELL NEXT\n",
    "seconds_in_a_week = 7 * seconds_in_a_day\n",
    "seconds_in_a_week"
   ]
  },
  {
   "cell_type": "markdown",
   "metadata": {
    "colab_type": "text",
    "id": "faRimhqU404M"
   },
   "source": [
    "#Homework\n",
    "**Before the lab complete** use the cell below to complete the Pre-Lab Quiz on Avenue.\n",
    "\n"
   ]
  },
  {
   "cell_type": "code",
   "execution_count": 14,
   "metadata": {
    "colab": {},
    "colab_type": "code",
    "id": "8-qTk-vrsbOH"
   },
   "outputs": [],
   "source": [
    "# USE THIS CELL TO TEST CODE FROM THE PRE-LAB QUIZ "
   ]
  },
  {
   "cell_type": "markdown",
   "metadata": {
    "colab_type": "text",
    "id": "5Pp0CMqryjeP"
   },
   "source": [
    "\n",
    "## Additional Resources\n",
    "\n",
    "\n",
    "\n",
    "[How To Use Jupyter Notebooks](https://www.codecademy.com/articles/how-to-use-jupyter-notebooks)\n",
    "\n",
    "[W3 Schools: Python Syntax](https://www.w3schools.com/python/python_syntax.asp)\n",
    "\n",
    "[W3 Schools: Python Variables](https://www.w3schools.com/python/python_variables.asp)\n",
    "\n",
    "[W3 Schools: Python Data Types](https://www.w3schools.com/python/python_datatypes.asp)\n",
    "\n",
    "\n"
   ]
  },
  {
   "cell_type": "code",
   "execution_count": null,
   "metadata": {},
   "outputs": [],
   "source": []
  }
 ],
 "metadata": {
  "colab": {
   "collapsed_sections": [],
   "name": "Computing Pre-Lab Notebook #1a",
   "provenance": []
  },
  "kernelspec": {
   "display_name": "Python 3 (ipykernel)",
   "language": "python",
   "name": "python3"
  },
  "language_info": {
   "codemirror_mode": {
    "name": "ipython",
    "version": 3
   },
   "file_extension": ".py",
   "mimetype": "text/x-python",
   "name": "python",
   "nbconvert_exporter": "python",
   "pygments_lexer": "ipython3",
   "version": "3.9.13"
  }
 },
 "nbformat": 4,
 "nbformat_minor": 1
}
