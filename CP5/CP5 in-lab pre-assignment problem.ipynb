{
 "cells": [
  {
   "cell_type": "markdown",
   "id": "e931cdcc",
   "metadata": {},
   "source": [
    "# ENG 1P13 - Computing 5 - In and Out \n",
    "  \n",
    "  ## CP 5 in-lab test\n",
    " \n",
    "1. Define a function that writes to a file: <br>\n",
    "```This student's name is XXXXX``` <br>\n",
    "```This student's MACID is YYYYY``` <br>\n",
    "(where XXXXX is your name and YYYYY is your MACID)\n",
    "\n",
    "  Define a function **writeFile**(*file_name*,*name*,*mac_id*):\n",
    "  \n",
    "   - ***file_name***: A string containing the name of the file, including its file extension.\n",
    "   - ***name*** A string containing user *name*.\n",
    "   - ***mac_id***: A tring containing user *mac_id*.\n",
    "   - **Return**: The variable *text* which is a string containing the text written to the file."
   ]
  },
  {
   "cell_type": "code",
   "execution_count": null,
   "id": "fc0c5abb",
   "metadata": {},
   "outputs": [],
   "source": [
    "def writeFile(file_name,name,mac_id):\n",
    "    file = open(file_name, \"w\")\n",
    "    text = file.write(\"This student's name is \"+ name + \"\\n\" + \"This student's MACID is \" + mac_id)\n",
    "    file.close()\n",
    "    return text"
   ]
  },
  {
   "cell_type": "markdown",
   "id": "b6273c98",
   "metadata": {},
   "source": [
    " 2. Define a function that reads the text from a file (the text from the file you wrote in 1.) and prints it.\n",
    " \n",
    "  Define a function **readFile**(*file_name*):\n",
    "   - ***file_name***: A string containing the name of the file, including its file extension <br> (You can test your code with the text file from the previous function).\n",
    "   - **Return**: The variable *text* which is a string containing the text read from the file."
   ]
  },
  {
   "cell_type": "code",
   "execution_count": null,
   "id": "35c2c26d",
   "metadata": {},
   "outputs": [],
   "source": [
    "def readFile(file_name):\n",
    "    file = open(file_name, \"r\")\n",
    "    text = file.read()\n",
    "    file.close()\n",
    "    return text"
   ]
  },
  {
   "cell_type": "markdown",
   "id": "b71cbb7a",
   "metadata": {},
   "source": [
    "---\n",
    "## Submission\n",
    "\n",
    "Please download this notebook as a .py file (*File* > *Download as* > *Python (.py)*) and submit it to the Computing Lab 5 Pre-Assigment dropbox on avenue with the naming convention: macID_pre_CL5.py\n",
    "\n",
    "**Make sure the final version of your file runs without errors, otherwise, you will likely receive zero.**"
   ]
  },
  {
   "cell_type": "code",
   "execution_count": null,
   "id": "6b8ad2f7",
   "metadata": {},
   "outputs": [],
   "source": []
  },
  {
   "cell_type": "code",
   "execution_count": null,
   "id": "13ba4093",
   "metadata": {},
   "outputs": [],
   "source": []
  }
 ],
 "metadata": {
  "kernelspec": {
   "display_name": "Python 3 (ipykernel)",
   "language": "python",
   "name": "python3"
  },
  "language_info": {
   "codemirror_mode": {
    "name": "ipython",
    "version": 3
   },
   "file_extension": ".py",
   "mimetype": "text/x-python",
   "name": "python",
   "nbconvert_exporter": "python",
   "pygments_lexer": "ipython3",
   "version": "3.9.13"
  }
 },
 "nbformat": 4,
 "nbformat_minor": 5
}
