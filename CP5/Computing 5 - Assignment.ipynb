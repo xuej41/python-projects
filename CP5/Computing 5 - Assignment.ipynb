{
 "cells": [
  {
   "cell_type": "markdown",
   "metadata": {
    "colab_type": "text",
    "id": "qwLGahydX5SB"
   },
   "source": [
    "# Computing 5 Assignment\n",
    "\n"
   ]
  },
  {
   "cell_type": "markdown",
   "metadata": {
    "colab_type": "text",
    "id": "7ti8TYwYX5NI"
   },
   "source": [
    "---\n",
    "## Background\n",
    "\n",
    "In this assignment you will be implementing a set of functions used in conjunction to form a website login system. Your system will utilize a text file for storing, retrieving, and verifying user credentials. We identify users based on their **username** and **password**. For simplicity we assume that usernames and passwords only contain alphanumeric characters. Alphanumeric characters represent the numbers **0-9** and the letters **A-Z** (both uppercase and lowercase). Usernames and passwords are case sensitive and must contain **at least 6** characters. Usernames must be unique.\n",
    "\n",
    "Each username and password combination will be stored on its own line in the text file. Each line in the text file has the following format:\n",
    "\n",
    "\n",
    "<br>\n",
    "\\begin{align}\n",
    "  \\texttt{username\\tpassword\\n}\\tag{1}\n",
    "\\end{align}\n",
    "<br>\n",
    "\n",
    "More explicitly, each line in the text file will contain a user’s username, a tab character, and that user’s password followed by the newline character. Please note that when opening the text file for viewing you will not explicitly see the **\\t** and **\\n** characters.\n",
    "\n",
    "\n",
    "In your implementation, usernames and passwords will be stored as plain text. This means that all usernames and passwords can easily be compromised if access to the text file is provided. This is extremely dangerous in the real world and poses huge security issues. In practicality, passwords are encrypted before stored so that they are not easily identifiable in the event of a data breach. Thus, please do not use any real passwords when developing and testing your program. \n"
   ]
  },
  {
   "cell_type": "markdown",
   "metadata": {
    "colab_type": "text",
    "id": "F0rMpqpbbe6b"
   },
   "source": [
    "---\n",
    "## Program Requirements (12 Marks)\n",
    "\n",
    "Your task is to implement a set of functions that will be used in conjunction to form a website login system. Your system will read and write user credentials from a text file that emulates a database. The requirements of the system are given below. \n",
    "Please ensure that your functions have the EXACT naming as specified! Failure to do so will result in lost marks. You can choose to copy and paste the function names into the implementation cell to avoid spelling mistakes.\n",
    "\n",
    "\n",
    "1. Define a function **get_user_data**(*filename*):\n",
    "  - ***filename***: A *string* representing the name of the text file (ex. “database.txt”) that stores user login credentials in the form of ```username\\tpassword\\n```.\n",
    "  - **Function Description**: The function performs the following actions as defined by the pseudocode below:\n",
    "    - Opens a file with the name *filename* for reading.\n",
    "    - Initializes two empty lists: **usernames**, and **passwords**\n",
    "    - For each line in file:\n",
    "        - Strips the line of the newline character \"\\n\" using strip() and then splits it at the tab \"\\t\" character using split(). \n",
    "        - Extracts the username and password in each line. \n",
    "        - The username is appended as a string to **usernames** and the password is appended as a string to **passwords**. \n",
    "    - Closes the file with the name *filename*<br>*(Note that it is assumed that the file associated with filename exists before the function is called)*    \n",
    "  - **Return**: A *list of lists* of length 2 where the first list is the **usernames** list and the second list is the **passwords** list populated with the data from *filename* as described above. <br>\n",
    "\n",
    "\n",
    "2. Define a function **exists**(*username*, *username_list*):\n",
    "  - ***username***: A *string* representing a username.\n",
    "  - ***username_list***: A *list* containing all usernames from *filename*.\n",
    "  - **Return**: *True* if *username* exists in *username_list*, otherwise *False*.<br>*(Hint: Use the **in** keyword.)*\n",
    "\n",
    "\n",
    "3. Define a function **create_user**(*username*, *password*, *username_list*, *filename*):\n",
    "  - ***username***: A *string* representing a username.\n",
    "  - ***password***: A *string* representing a password.\n",
    "  - ***username_list***: A *list* containing all usernames from *filename*.\n",
    "  - ***filename***: A *string* representing the name of the text file (ex. “database.txt”) that stores user login credentials in the form of ```username\\tpassword\\n```.\n",
    "  - **Function Description**: The function performs the following actions:\n",
    "    - If *username* **does not** exist in *filename*, open *filename* in append mode, write the username and password in the form ```username\\tpassword\\n```, and close the file.\n",
    "    - If *username* **does** exist in *filename*, do nothing.\n",
    "  - **Return**: *True* if *username* and *password* were added to *filename*, otherwise *False*<br>*(Hint: Use your **exists** function to check if the username exists in username_list and remember to close your file if you open it.)*\n",
    "\n",
    "\n",
    "4. Define a function **login**(*username*, *password*, *filename*):\n",
    "  - ***username***: A *string* representing a username.\n",
    "  - ***password***: A *string* representing a password.\n",
    "  - ***filename***: A *string* representing the name of the text file\n",
    "  - **Function Description**: The function performs the following actions:\n",
    "    - If *username* **does** exist in *filename*, find the password associated with *username* in *filename* using the index of the *username* and check if *password* is equal to the expected password.<br> *(Hint: Use your **get_user_data** and **exists** functions and the **index()** method.)*\n",
    "    - If the username **does not** exist in *filename*, do nothing.\n",
    "  - **Return**: *True* if *password* matches the password associated with *username* in *filename*. *False* if the passwords do not match or *username* does not exist in *filename*."
   ]
  },
  {
   "cell_type": "markdown",
   "metadata": {
    "colab_type": "text",
    "id": "0sCzEGhfc6ln"
   },
   "source": [
    "---\n",
    "## Implementation\n",
    "Please define all functions in the cell below"
   ]
  },
  {
   "cell_type": "code",
   "execution_count": null,
   "metadata": {
    "colab": {},
    "colab_type": "code",
    "id": "NhNJnwTQYBQ2"
   },
   "outputs": [],
   "source": [
    "#********************************************\n",
    "# Write your get_user_data function below: (2.5 marks)\n",
    "#********************************************\n",
    "\n",
    "\n",
    "\n",
    "\n",
    "\n",
    "\n",
    "#********************************************\n",
    "# Write your exists function below: (2.5 marks)\n",
    "#********************************************\n",
    "\n",
    "\n",
    "\n",
    "\n",
    "\n",
    "\n",
    "#********************************************\n",
    "# Write your create_user function below: (2.5 marks)\n",
    "#********************************************\n",
    "\n",
    "\n",
    "\n",
    "\n",
    "\n",
    "\n",
    "#********************************************\n",
    "# Write your login function below: (4.5 marks)\n",
    "#********************************************\n",
    "\n",
    "\n",
    "\n",
    "\n",
    "\n"
   ]
  },
  {
   "cell_type": "markdown",
   "metadata": {},
   "source": [
    "---\n",
    "## Testing\n",
    "\n",
    "The cell below contains a main function that you can use to test your functions. \n",
    "\n",
    "### Important\n",
    "Run the cell where you implemented your functions ***first*** and ensure it outputs with no errors. Then, run the cell below with the main function to verify that your code works correctly with the provided input.\n"
   ]
  },
  {
   "cell_type": "code",
   "execution_count": 1,
   "metadata": {},
   "outputs": [
    {
     "name": "stdout",
     "output_type": "stream",
     "text": [
      "Press [q] to quit, [l] to login, [c] to create an account: q\n"
     ]
    }
   ],
   "source": [
    "# TESTING\n",
    "def main():\n",
    "\n",
    "    database = \"database.txt\"\n",
    "    while True:\n",
    "        ans = input(\"Press [q] to quit, [l] to login, [c] to create an account: \")\n",
    "        if ans == \"q\":\n",
    "            # Break if the user quits\n",
    "            break\n",
    "        elif ans == \"l\":\n",
    "            # Login if the user types in \"l\"\n",
    "            uname = input(\"Please enter your username: \")\n",
    "            password = input(\"Please enter your password: \")\n",
    "            if login(uname, password, database):\n",
    "                print(\"Login sucessful!\\n\")\n",
    "            else:\n",
    "                print(\"Sorry, login unsucessful :(\\n\")\n",
    "        elif ans == \"c\":\n",
    "            # Create an account if the user types in c\n",
    "            uname = input(\"Please create a username: \")\n",
    "            password = input(\"Please create a password: \")\n",
    "            # Check if username exists\n",
    "            username_list = (get_user_data(database))[0]\n",
    "            if create_user(uname, password, username_list, database):\n",
    "                    print(\"Account creation sucessful for user,\",uname,\"\\n\")\n",
    "            else:\n",
    "                    print(\"Sorry,\",uname,\"is already taken!\\n\")\n",
    "        else:\n",
    "            print(\"Please enter a valid character\")\n",
    "main()"
   ]
  },
  {
   "cell_type": "markdown",
   "metadata": {},
   "source": [
    "The main function above utilizes the functions you have created to simulate the login system environment. Inspect the code and play around with the funtionality to test out all of your functions. A file has already been created for you called \"database.txt\". This file contains one user with the following credentials:\n",
    "\n",
    "Username: iLoveMac\n",
    "Password: iamthebeststudent123\n",
    "\n",
    "Use the credentials to log into the system or create your own using the main function!"
   ]
  },
  {
   "cell_type": "markdown",
   "metadata": {},
   "source": [
    "----------\n",
    "## Code Legibility (6 Marks)\n",
    "Your code will be marked on commenting and code legibility.<br>\n",
    "The mark breakdown is as follows:<br>\n",
    "\n",
    ">- 2 marks for using **appropriate variable names** that indicate what is being stored in that variable<br>\n",
    ">- 2 marks for leaving **comments on major parts of your code** such as where you read the file or calculate a summation<br>\n",
    ">- 2 marks for **general legibility**. The TA's should be able to understand your code without spending hours reading it. For example do not put your code in one very long line as this is hard for someone else reading your code to understand"
   ]
  },
  {
   "cell_type": "markdown",
   "metadata": {
    "colab_type": "text",
    "id": "I-H2l4mYdqMe"
   },
   "source": [
    "---\n",
    "## Reflective Questions (6 Marks)\n",
    "\n",
    "1. The **create_user** function requires that filename is opened in append mode in order to add a username/password combinations to filename. What will happen if filename is instead opened in write mode? Assume you are forced to use any access mode other append. Is it possible to re-write the function such that the functionality does not change? Please explain.\n",
    "\n",
    "\n",
    "2. Assume you have to write a function **valid_length** that would check if the *username* and *password* are greater than 6 characters. How would you implement this function?\n",
    "\n",
    "\n",
    "3. Assume you have two functions **encrypt(password)** and **decrypt(encoded_password)**. The function **encrypt** takes a password string and returns an encoded version of the password as a string. The function **decrypt** decodes  the encoded_password string and returns the decoded password as a string. Where would you use these functions in your code if you wanted your login system to store encoded user passwords rather than raw text passwords?\n",
    "\n",
    "Please answer all questions in the cell below!"
   ]
  },
  {
   "cell_type": "markdown",
   "metadata": {
    "colab": {},
    "colab_type": "code",
    "id": "d5A_9jeadq8F"
   },
   "source": [
    "```\n",
    "DOUBLE CLICK TO EDIT THIS CELL. DO NOT DELETE QUOTATION MARKS\n",
    "```"
   ]
  },
  {
   "cell_type": "markdown",
   "metadata": {
    "colab_type": "text",
    "id": "s7blsL23drc9"
   },
   "source": [
    "---\n",
    "## Submission\n",
    "\n",
    "Please download this notebook as a .py file (*File* > *Download as* > *Python (.py)*) and submit it to the Computing Lab 5 dropbox on avenue with the naming convention: macID_CL5.py\n",
    "\n",
    "#### NOTE: YOU WILL BE MARKED ON MULTIPLE ITEMS IN THIS LAB IN ADDITION TO THE FUNCTIONALITY OF YOUR CODE\n",
    " - Variable Names\n",
    " - Commenting\n",
    " - General Legibility\n",
    " - Reflective Questions\n",
    "\n",
    "**Make sure the final version of your lab runs without errors, otherwise, you will likely receive zero.**\n",
    "\n",
    "This assignment is due the at the end of your Lab section.\n",
    "\n",
    "Late labs will not be accepted"
   ]
  },
  {
   "cell_type": "code",
   "execution_count": null,
   "metadata": {},
   "outputs": [],
   "source": []
  }
 ],
 "metadata": {
  "colab": {
   "collapsed_sections": [],
   "name": "Computing 5 - Assignment",
   "provenance": []
  },
  "kernelspec": {
   "display_name": "Python 3 (ipykernel)",
   "language": "python",
   "name": "python3"
  },
  "language_info": {
   "codemirror_mode": {
    "name": "ipython",
    "version": 3
   },
   "file_extension": ".py",
   "mimetype": "text/x-python",
   "name": "python",
   "nbconvert_exporter": "python",
   "pygments_lexer": "ipython3",
   "version": "3.11.4"
  }
 },
 "nbformat": 4,
 "nbformat_minor": 1
}
